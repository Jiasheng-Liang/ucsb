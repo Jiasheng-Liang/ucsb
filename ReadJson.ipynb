import os
import pandas as pd
import json

def json_to_dataframe(json_file):
    with open(json_file, 'r', encoding='utf-8') as f:
        data = json.load(f)
    df = pd.json_normalize(data)
    return df

# Specify the directory where the JSON files are located
json_dir = "/home/jiasheng/fstore/data_ucsb/Jsonfiles"

# Get the list of all JSON files in the directory
json_files = [file for file in os.listdir(json_dir) if file.endswith('.json')]

# Check if there are any JSON files in the directory
if not json_files:
    print("No JSON files found in the directory.")
else:
    print(f"Found {len(json_files)} JSON files.")

# Initialize an empty list to store the dataframes
df_list = []

# Loop over the JSON files and convert each one to a dataframe
for json_file in json_files:
    # Get the full file path by joining the directory and the file name
    file_path = os.path.join(json_dir, json_file)
    
    # Convert the JSON file to a dataframe and append it to the list
    df = json_to_dataframe(file_path)
    df_list.append(df)

    print(f"Processed file: {json_file}")

# Concatenate all the dataframes in the list
if df_list:
    df = pd.concat(df_list, ignore_index=True)
    print(df)
else:
    print("No dataframes to concatenate.")
