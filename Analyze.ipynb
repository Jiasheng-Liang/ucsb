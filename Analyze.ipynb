import pandas as pd
import matplotlib.pyplot as plt
import numpy as np
from datetime import datetime

def get_speech_type(title):
    title = title.lower()
    if 'remarks' in title:
        return 'remarks'
    elif 'statement' in title:
        return 'statement'
    elif 'tweets' in title:
        return 'tweets'
    elif 'press release' in title:
        return 'press release'
    else:
        return 'others'

# read adta from csv files
df = pd.read_csv('/home/jiasheng/fstore/data_ucsb/alldata.csv')

# extract and convert data
df['Year'] = pd.to_datetime(df['date'], errors='coerce').dt.year.fillna('N/A')
df['SpeechType'] = df['title'].apply(get_speech_type)

# filter out lines with N/A speaker or SpeechType
df = df[df['speaker'] != 'N/A']
df = df[df['SpeechType'] != 'N/A']

# create chart by year
for year, group in df.groupby('Year'):
    fig, ax = plt.subplots(figsize=(15, 6))
    grouped = group.groupby(['speaker', 'SpeechType']).size().unstack()

    # Sort by total number of talks per speaker
    speaker_order = group['speaker'].value_counts().index
    grouped = grouped.reindex(speaker_order)

    # Calculate the width of each category
    width = 1.0 / (len(grouped.columns) + 1)
    for i, (speech_type, values) in enumerate(grouped.iteritems()):
        bars = ax.bar(np.arange(len(grouped)) + i * width, values, width=width, label=speech_type)
        
        # Display the quantity above the column
        for bar in bars:
            yval = bar.get_height()
            if np.isnan(yval):
                yval = 0
            if yval != 0:
                ax.text(bar.get_x() + bar.get_width()/2.0, yval, int(yval), va='bottom')  # va: vertical alignment
    
    ax.set_xticks(np.arange(len(grouped)) + width * len(grouped.columns) / 2)
    ax.set_xticklabels(grouped.index)
    ax.set_xlabel('Speaker')
    ax.set_ylabel('Number of Speeches')
    ax.set_title(f'Year {year}')
    ax.legend(loc='upper right')

    plt.xticks(rotation=45)
    plt.tight_layout()
    plt.savefig(f'year_{year}.png')
